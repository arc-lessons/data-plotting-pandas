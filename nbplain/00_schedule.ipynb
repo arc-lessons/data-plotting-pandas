{
 "cells": [
  {
   "cell_type": "markdown",
   "metadata": {
    "slideshow": {
     "slide_type": "slide"
    }
   },
   "source": [
    "# Introduction to working with data and plotting\n",
    "\n",
    "This lesson introduces some techniques for working with data sets and producing plots. It covers:\n",
    "* A brief introduction to Jupyter notebooks.\n",
    "* Introduction to NumPy.\n",
    "* Introduction to Pandas.\n",
    "* Introduction to matplotlib."
   ]
  },
  {
   "cell_type": "markdown",
   "metadata": {
    "slideshow": {
     "slide_type": "slide"
    }
   },
   "source": [
    "## Prerequisites:\n",
    "\n",
    "In order to complete the lesson you should be familar with the content of the course:\n",
    "* Introduction to Python"
   ]
  },
  {
   "cell_type": "markdown",
   "metadata": {
    "slideshow": {
     "slide_type": "slide"
    }
   },
   "source": [
    "## Schedule:\n",
    "Approximate timings for the lesson:\n",
    "\n",
    "| Time | Episode | Description |\n",
    "|---|---|---|\n",
    "| 0:00 | [Jupyter Notebooks](./01_jupyter.ipynb) | How to use a jupyter notebook |\n",
    "| 0:00 | [Pandas Introduction](./01_pandas_pt1.ipynb) | An introduction to pandas |\n",
    "| 0:45 | [Reading a file with pandas](./02_pandas_pt2.ipynb) | Reading data into pandas |\n",
    "| 1:00 | [Plotting with pandas](./06_matplotlib_pt1.ipynb) | More plots using matplotlib with pandas |\n",
    "| 1:30 | [Reading web data](./04_pandas_web.ipynb) | Read data from the web into pandas |\n",
    "| 2:00 | [Fitting data](./05_pandas_fit.ipynb) | Fit data with lines of best fit |\n",
    "| 3:00 | [Exploring matplotlib's features](./06_plotting_pt2.ipynb) | A tour of some of the feature of matplotlib |\n",
    "| 4:00 | Finish | |"
   ]
  },
  {
   "cell_type": "markdown",
   "metadata": {
    "slideshow": {
     "slide_type": "slide"
    }
   },
   "source": [
    "## Setup:\n",
    "\n",
    "Log on to the server for today's course at https://rss.jupyterhub.bath.ac.uk.  We will need to make copy the `data-plotting` folder, which will also use for the notebooks we will generate during the lesson.  Do this by opening the Welcome.ipynb notebook and following the set up for Data and plotting.  Data and files for the research software courses is available in the folder `data-plotting`."
   ]
  }
 ],
 "metadata": {
  "celltoolbar": "Slideshow",
  "kernelspec": {
   "display_name": "Python 3",
   "language": "python",
   "name": "python3"
  },
  "language_info": {
   "codemirror_mode": {
    "name": "ipython",
    "version": 3
   },
   "file_extension": ".py",
   "mimetype": "text/x-python",
   "name": "python",
   "nbconvert_exporter": "python",
   "pygments_lexer": "ipython3",
   "version": "3.8.3"
  }
 },
 "nbformat": 4,
 "nbformat_minor": 2
}
