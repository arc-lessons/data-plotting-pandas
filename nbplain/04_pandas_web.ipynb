{
 "cells": [
  {
   "cell_type": "markdown",
   "metadata": {
    "collapsed": true
   },
   "source": [
    "# Reading a file from the web with pandas"
   ]
  },
  {
   "cell_type": "markdown",
   "metadata": {},
   "source": [
    "## Overview:\n",
    "- **Teaching:** 10 min\n",
    "- **Exercises:** 5 min\n",
    "\n",
    "**Questions**\n",
    "* How can I read data from the web into pandas?\n",
    "\n",
    "**Objectives**\n",
    "* Use pandas to download and read in a CSV file for the web.\n"
   ]
  },
  {
   "cell_type": "markdown",
   "metadata": {},
   "source": [
    "Increasingly data is being made openly available on the internet.  All research data that supports published work should where possible be published and the UK government has adopted an open data policy to increase transparency e.g centrally via https://data.gov.uk/ and the Office of National Statistics: https://www.ons.gov.uk/.\n",
    "\n",
    "For this lesson we will focus on data related to COVID-19/Cornoavirus which are available at https://coronavirus.data.gov.uk/details/download. We have used this to generate a link to the [latest daily and cumulated recorded cases and deaths](https://api.coronavirus.data.gov.uk/v2/data?areaType=overview&metric=cumCasesBySpecimenDate&metric=cumDeaths28DaysByDeathDate&metric=newCasesBySpecimenDate&metric=newDeaths28DaysByDeathDate&format=csv) in csv format.  You can explore the page to extract different data and generate your own link.  We will read this directly into pandas so that whenever we run our analysis we will always be working with the latest data."
   ]
  },
  {
   "cell_type": "markdown",
   "metadata": {},
   "source": [
    "First we will assign the url to a variable:"
   ]
  },
  {
   "cell_type": "code",
   "execution_count": 1,
   "metadata": {},
   "outputs": [],
   "source": [
    "data_url='https://api.coronavirus.data.gov.uk/v2/data?areaType=overview&metric=cumCasesBySpecimenDate&metric=cumDeaths28DaysByDeathDate&metric=newCasesBySpecimenDate&metric=newDeaths28DaysByDeathDate&format=csv'"
   ]
  },
  {
   "cell_type": "markdown",
   "metadata": {},
   "source": [
    "Because this link will generate a csv file, we can use the pandas function `read_csv()` just as before, to read the file and convert it to a `DataFrame`. "
   ]
  },
  {
   "cell_type": "code",
   "execution_count": 2,
   "metadata": {},
   "outputs": [
    {
     "data": {
      "text/html": [
       "<div>\n",
       "<style scoped>\n",
       "    .dataframe tbody tr th:only-of-type {\n",
       "        vertical-align: middle;\n",
       "    }\n",
       "\n",
       "    .dataframe tbody tr th {\n",
       "        vertical-align: top;\n",
       "    }\n",
       "\n",
       "    .dataframe thead th {\n",
       "        text-align: right;\n",
       "    }\n",
       "</style>\n",
       "<table border=\"1\" class=\"dataframe\">\n",
       "  <thead>\n",
       "    <tr style=\"text-align: right;\">\n",
       "      <th></th>\n",
       "      <th>date</th>\n",
       "      <th>areaType</th>\n",
       "      <th>areaCode</th>\n",
       "      <th>areaName</th>\n",
       "      <th>cumCasesBySpecimenDate</th>\n",
       "      <th>cumDeaths28DaysByDeathDate</th>\n",
       "      <th>newCasesBySpecimenDate</th>\n",
       "      <th>newDeaths28DaysByDeathDate</th>\n",
       "    </tr>\n",
       "  </thead>\n",
       "  <tbody>\n",
       "    <tr>\n",
       "      <th>0</th>\n",
       "      <td>2020-11-26</td>\n",
       "      <td>overview</td>\n",
       "      <td>K02000001</td>\n",
       "      <td>United Kingdom</td>\n",
       "      <td>NaN</td>\n",
       "      <td>NaN</td>\n",
       "      <td>NaN</td>\n",
       "      <td>NaN</td>\n",
       "    </tr>\n",
       "    <tr>\n",
       "      <th>1</th>\n",
       "      <td>2020-11-25</td>\n",
       "      <td>overview</td>\n",
       "      <td>K02000001</td>\n",
       "      <td>United Kingdom</td>\n",
       "      <td>NaN</td>\n",
       "      <td>NaN</td>\n",
       "      <td>NaN</td>\n",
       "      <td>NaN</td>\n",
       "    </tr>\n",
       "    <tr>\n",
       "      <th>2</th>\n",
       "      <td>2020-11-24</td>\n",
       "      <td>overview</td>\n",
       "      <td>K02000001</td>\n",
       "      <td>United Kingdom</td>\n",
       "      <td>1572057.0</td>\n",
       "      <td>56857.0</td>\n",
       "      <td>11242.0</td>\n",
       "      <td>300.0</td>\n",
       "    </tr>\n",
       "    <tr>\n",
       "      <th>3</th>\n",
       "      <td>2020-11-23</td>\n",
       "      <td>overview</td>\n",
       "      <td>K02000001</td>\n",
       "      <td>United Kingdom</td>\n",
       "      <td>1560815.0</td>\n",
       "      <td>56557.0</td>\n",
       "      <td>17798.0</td>\n",
       "      <td>360.0</td>\n",
       "    </tr>\n",
       "    <tr>\n",
       "      <th>4</th>\n",
       "      <td>2020-11-22</td>\n",
       "      <td>overview</td>\n",
       "      <td>K02000001</td>\n",
       "      <td>United Kingdom</td>\n",
       "      <td>1543017.0</td>\n",
       "      <td>56197.0</td>\n",
       "      <td>11729.0</td>\n",
       "      <td>407.0</td>\n",
       "    </tr>\n",
       "    <tr>\n",
       "      <th>...</th>\n",
       "      <td>...</td>\n",
       "      <td>...</td>\n",
       "      <td>...</td>\n",
       "      <td>...</td>\n",
       "      <td>...</td>\n",
       "      <td>...</td>\n",
       "      <td>...</td>\n",
       "      <td>...</td>\n",
       "    </tr>\n",
       "    <tr>\n",
       "      <th>324</th>\n",
       "      <td>2020-01-07</td>\n",
       "      <td>overview</td>\n",
       "      <td>K02000001</td>\n",
       "      <td>United Kingdom</td>\n",
       "      <td>NaN</td>\n",
       "      <td>NaN</td>\n",
       "      <td>NaN</td>\n",
       "      <td>NaN</td>\n",
       "    </tr>\n",
       "    <tr>\n",
       "      <th>325</th>\n",
       "      <td>2020-01-06</td>\n",
       "      <td>overview</td>\n",
       "      <td>K02000001</td>\n",
       "      <td>United Kingdom</td>\n",
       "      <td>NaN</td>\n",
       "      <td>NaN</td>\n",
       "      <td>NaN</td>\n",
       "      <td>NaN</td>\n",
       "    </tr>\n",
       "    <tr>\n",
       "      <th>326</th>\n",
       "      <td>2020-01-05</td>\n",
       "      <td>overview</td>\n",
       "      <td>K02000001</td>\n",
       "      <td>United Kingdom</td>\n",
       "      <td>NaN</td>\n",
       "      <td>NaN</td>\n",
       "      <td>NaN</td>\n",
       "      <td>NaN</td>\n",
       "    </tr>\n",
       "    <tr>\n",
       "      <th>327</th>\n",
       "      <td>2020-01-04</td>\n",
       "      <td>overview</td>\n",
       "      <td>K02000001</td>\n",
       "      <td>United Kingdom</td>\n",
       "      <td>NaN</td>\n",
       "      <td>NaN</td>\n",
       "      <td>NaN</td>\n",
       "      <td>NaN</td>\n",
       "    </tr>\n",
       "    <tr>\n",
       "      <th>328</th>\n",
       "      <td>2020-01-03</td>\n",
       "      <td>overview</td>\n",
       "      <td>K02000001</td>\n",
       "      <td>United Kingdom</td>\n",
       "      <td>NaN</td>\n",
       "      <td>NaN</td>\n",
       "      <td>NaN</td>\n",
       "      <td>NaN</td>\n",
       "    </tr>\n",
       "  </tbody>\n",
       "</table>\n",
       "<p>329 rows × 8 columns</p>\n",
       "</div>"
      ],
      "text/plain": [
       "           date  areaType   areaCode        areaName  cumCasesBySpecimenDate  \\\n",
       "0    2020-11-26  overview  K02000001  United Kingdom                     NaN   \n",
       "1    2020-11-25  overview  K02000001  United Kingdom                     NaN   \n",
       "2    2020-11-24  overview  K02000001  United Kingdom               1572057.0   \n",
       "3    2020-11-23  overview  K02000001  United Kingdom               1560815.0   \n",
       "4    2020-11-22  overview  K02000001  United Kingdom               1543017.0   \n",
       "..          ...       ...        ...             ...                     ...   \n",
       "324  2020-01-07  overview  K02000001  United Kingdom                     NaN   \n",
       "325  2020-01-06  overview  K02000001  United Kingdom                     NaN   \n",
       "326  2020-01-05  overview  K02000001  United Kingdom                     NaN   \n",
       "327  2020-01-04  overview  K02000001  United Kingdom                     NaN   \n",
       "328  2020-01-03  overview  K02000001  United Kingdom                     NaN   \n",
       "\n",
       "     cumDeaths28DaysByDeathDate  newCasesBySpecimenDate  \\\n",
       "0                           NaN                     NaN   \n",
       "1                           NaN                     NaN   \n",
       "2                       56857.0                 11242.0   \n",
       "3                       56557.0                 17798.0   \n",
       "4                       56197.0                 11729.0   \n",
       "..                          ...                     ...   \n",
       "324                         NaN                     NaN   \n",
       "325                         NaN                     NaN   \n",
       "326                         NaN                     NaN   \n",
       "327                         NaN                     NaN   \n",
       "328                         NaN                     NaN   \n",
       "\n",
       "     newDeaths28DaysByDeathDate  \n",
       "0                           NaN  \n",
       "1                           NaN  \n",
       "2                         300.0  \n",
       "3                         360.0  \n",
       "4                         407.0  \n",
       "..                          ...  \n",
       "324                         NaN  \n",
       "325                         NaN  \n",
       "326                         NaN  \n",
       "327                         NaN  \n",
       "328                         NaN  \n",
       "\n",
       "[329 rows x 8 columns]"
      ]
     },
     "execution_count": 2,
     "metadata": {},
     "output_type": "execute_result"
    }
   ],
   "source": [
    "import pandas as pd\n",
    "\n",
    "covid_data=pd.read_csv(data_url)\n",
    "covid_data"
   ]
  },
  {
   "cell_type": "markdown",
   "metadata": {},
   "source": [
    "We can see that by default it's done a good job of parsing the file, as the open data is designed to be as usable as possible.  In selecting a subset of this data it would be useful to treat the date as a `datetime` value rather than a string and possibly use this as the index of the dataset.  First let's first check what `datatype ` have been assigned to each of the columns:"
   ]
  },
  {
   "cell_type": "code",
   "execution_count": 3,
   "metadata": {},
   "outputs": [
    {
     "name": "stdout",
     "output_type": "stream",
     "text": [
      "date                           object\n",
      "areaType                       object\n",
      "areaCode                       object\n",
      "areaName                       object\n",
      "cumCasesBySpecimenDate        float64\n",
      "cumDeaths28DaysByDeathDate    float64\n",
      "newCasesBySpecimenDate        float64\n",
      "newDeaths28DaysByDeathDate    float64\n",
      "dtype: object\n",
      "<class 'pandas.core.series.Series'>\n"
     ]
    }
   ],
   "source": [
    "dtypes = covid_data.dtypes\n",
    "print(dtypes)\n",
    "print(type(dtypes))"
   ]
  },
  {
   "cell_type": "markdown",
   "metadata": {},
   "source": [
    "This tells is that the date is of type of `object` which is how pandas treats strings.  We can use an inbuilt pandas function to convert this one column to a `datetime` format and reassign it to the date `column`.  In order to reduce the amount of data printed to the screen we can also use `dataframe_name.head()` to print just the first few lines of a dataframe."
   ]
  },
  {
   "cell_type": "code",
   "execution_count": 4,
   "metadata": {},
   "outputs": [
    {
     "data": {
      "text/html": [
       "<div>\n",
       "<style scoped>\n",
       "    .dataframe tbody tr th:only-of-type {\n",
       "        vertical-align: middle;\n",
       "    }\n",
       "\n",
       "    .dataframe tbody tr th {\n",
       "        vertical-align: top;\n",
       "    }\n",
       "\n",
       "    .dataframe thead th {\n",
       "        text-align: right;\n",
       "    }\n",
       "</style>\n",
       "<table border=\"1\" class=\"dataframe\">\n",
       "  <thead>\n",
       "    <tr style=\"text-align: right;\">\n",
       "      <th></th>\n",
       "      <th>date</th>\n",
       "      <th>areaType</th>\n",
       "      <th>areaCode</th>\n",
       "      <th>areaName</th>\n",
       "      <th>cumCasesBySpecimenDate</th>\n",
       "      <th>cumDeaths28DaysByDeathDate</th>\n",
       "      <th>newCasesBySpecimenDate</th>\n",
       "      <th>newDeaths28DaysByDeathDate</th>\n",
       "    </tr>\n",
       "  </thead>\n",
       "  <tbody>\n",
       "    <tr>\n",
       "      <th>0</th>\n",
       "      <td>2020-11-26</td>\n",
       "      <td>overview</td>\n",
       "      <td>K02000001</td>\n",
       "      <td>United Kingdom</td>\n",
       "      <td>NaN</td>\n",
       "      <td>NaN</td>\n",
       "      <td>NaN</td>\n",
       "      <td>NaN</td>\n",
       "    </tr>\n",
       "    <tr>\n",
       "      <th>1</th>\n",
       "      <td>2020-11-25</td>\n",
       "      <td>overview</td>\n",
       "      <td>K02000001</td>\n",
       "      <td>United Kingdom</td>\n",
       "      <td>NaN</td>\n",
       "      <td>NaN</td>\n",
       "      <td>NaN</td>\n",
       "      <td>NaN</td>\n",
       "    </tr>\n",
       "    <tr>\n",
       "      <th>2</th>\n",
       "      <td>2020-11-24</td>\n",
       "      <td>overview</td>\n",
       "      <td>K02000001</td>\n",
       "      <td>United Kingdom</td>\n",
       "      <td>1572057.0</td>\n",
       "      <td>56857.0</td>\n",
       "      <td>11242.0</td>\n",
       "      <td>300.0</td>\n",
       "    </tr>\n",
       "    <tr>\n",
       "      <th>3</th>\n",
       "      <td>2020-11-23</td>\n",
       "      <td>overview</td>\n",
       "      <td>K02000001</td>\n",
       "      <td>United Kingdom</td>\n",
       "      <td>1560815.0</td>\n",
       "      <td>56557.0</td>\n",
       "      <td>17798.0</td>\n",
       "      <td>360.0</td>\n",
       "    </tr>\n",
       "    <tr>\n",
       "      <th>4</th>\n",
       "      <td>2020-11-22</td>\n",
       "      <td>overview</td>\n",
       "      <td>K02000001</td>\n",
       "      <td>United Kingdom</td>\n",
       "      <td>1543017.0</td>\n",
       "      <td>56197.0</td>\n",
       "      <td>11729.0</td>\n",
       "      <td>407.0</td>\n",
       "    </tr>\n",
       "  </tbody>\n",
       "</table>\n",
       "</div>"
      ],
      "text/plain": [
       "        date  areaType   areaCode        areaName  cumCasesBySpecimenDate  \\\n",
       "0 2020-11-26  overview  K02000001  United Kingdom                     NaN   \n",
       "1 2020-11-25  overview  K02000001  United Kingdom                     NaN   \n",
       "2 2020-11-24  overview  K02000001  United Kingdom               1572057.0   \n",
       "3 2020-11-23  overview  K02000001  United Kingdom               1560815.0   \n",
       "4 2020-11-22  overview  K02000001  United Kingdom               1543017.0   \n",
       "\n",
       "   cumDeaths28DaysByDeathDate  newCasesBySpecimenDate  \\\n",
       "0                         NaN                     NaN   \n",
       "1                         NaN                     NaN   \n",
       "2                     56857.0                 11242.0   \n",
       "3                     56557.0                 17798.0   \n",
       "4                     56197.0                 11729.0   \n",
       "\n",
       "   newDeaths28DaysByDeathDate  \n",
       "0                         NaN  \n",
       "1                         NaN  \n",
       "2                       300.0  \n",
       "3                       360.0  \n",
       "4                       407.0  "
      ]
     },
     "execution_count": 4,
     "metadata": {},
     "output_type": "execute_result"
    }
   ],
   "source": [
    "covid_data['date'] = pd.to_datetime(covid_data['date'])\n",
    "covid_data.head()"
   ]
  },
  {
   "cell_type": "markdown",
   "metadata": {},
   "source": [
    "We don't see any difference in the output but can verify that the datatype has been converted by checking the types again:"
   ]
  },
  {
   "cell_type": "code",
   "execution_count": 5,
   "metadata": {},
   "outputs": [
    {
     "name": "stdout",
     "output_type": "stream",
     "text": [
      "date                          datetime64[ns]\n",
      "areaType                              object\n",
      "areaCode                              object\n",
      "areaName                              object\n",
      "cumCasesBySpecimenDate               float64\n",
      "cumDeaths28DaysByDeathDate           float64\n",
      "newCasesBySpecimenDate               float64\n",
      "newDeaths28DaysByDeathDate           float64\n",
      "dtype: object\n",
      "<class 'pandas.core.series.Series'>\n"
     ]
    }
   ],
   "source": [
    "dtypes = covid_data.dtypes\n",
    "print(dtypes)\n",
    "print(type(dtypes))"
   ]
  },
  {
   "cell_type": "markdown",
   "metadata": {},
   "source": [
    "Let's verify that we can select a range of dates.  We need to import the `datetime` library explicitly and assign start and end dates, for which we will choose 1st October 2020 and 1st November respectively."
   ]
  },
  {
   "cell_type": "code",
   "execution_count": 6,
   "metadata": {},
   "outputs": [],
   "source": [
    "import datetime\n",
    "start_date=datetime.datetime(year=2020,month=10,day=1)\n",
    "end_date=datetime.datetime(year=2020,month=10,day=31)"
   ]
  },
  {
   "cell_type": "markdown",
   "metadata": {},
   "source": [
    "We can now use these to select a subset of the original dataframe for the month of October.  To do this we need to identify all data where the date is greater than or equal to the start date AND less than the end date.  As we saw in the first episode of the lesson we can do this by generating a boolean mask. First to select data after the start date"
   ]
  },
  {
   "cell_type": "code",
   "execution_count": 7,
   "metadata": {},
   "outputs": [
    {
     "data": {
      "text/plain": [
       "0       True\n",
       "1       True\n",
       "2       True\n",
       "3       True\n",
       "4       True\n",
       "       ...  \n",
       "324    False\n",
       "325    False\n",
       "326    False\n",
       "327    False\n",
       "328    False\n",
       "Name: date, Length: 329, dtype: bool"
      ]
     },
     "execution_count": 7,
     "metadata": {},
     "output_type": "execute_result"
    }
   ],
   "source": [
    "covid_data['date'] >= start_date"
   ]
  },
  {
   "cell_type": "markdown",
   "metadata": {},
   "source": [
    "second before the end date:"
   ]
  },
  {
   "cell_type": "code",
   "execution_count": 8,
   "metadata": {},
   "outputs": [
    {
     "data": {
      "text/plain": [
       "0      False\n",
       "1      False\n",
       "2      False\n",
       "3      False\n",
       "4      False\n",
       "       ...  \n",
       "324     True\n",
       "325     True\n",
       "326     True\n",
       "327     True\n",
       "328     True\n",
       "Name: date, Length: 329, dtype: bool"
      ]
     },
     "execution_count": 8,
     "metadata": {},
     "output_type": "execute_result"
    }
   ],
   "source": [
    "covid_data['date'] <= end_date"
   ]
  },
  {
   "cell_type": "markdown",
   "metadata": {},
   "source": [
    "But we need both of these to be true so we combine them with the boolean and operator:"
   ]
  },
  {
   "cell_type": "code",
   "execution_count": 9,
   "metadata": {},
   "outputs": [
    {
     "data": {
      "text/plain": [
       "0      False\n",
       "1      False\n",
       "2      False\n",
       "3      False\n",
       "4      False\n",
       "       ...  \n",
       "324    False\n",
       "325    False\n",
       "326    False\n",
       "327    False\n",
       "328    False\n",
       "Name: date, Length: 329, dtype: bool"
      ]
     },
     "execution_count": 9,
     "metadata": {},
     "output_type": "execute_result"
    }
   ],
   "source": [
    "(covid_data['date'] >= start_date) & (covid_data['date'] <= end_date)"
   ]
  },
  {
   "cell_type": "markdown",
   "metadata": {},
   "source": [
    "While it is useful to know about this way of combining masks there is also a useful helper function in pandas `between` that can handle the logic for us:"
   ]
  },
  {
   "cell_type": "code",
   "execution_count": 10,
   "metadata": {},
   "outputs": [
    {
     "data": {
      "text/plain": [
       "0      False\n",
       "1      False\n",
       "2      False\n",
       "3      False\n",
       "4      False\n",
       "       ...  \n",
       "324    False\n",
       "325    False\n",
       "326    False\n",
       "327    False\n",
       "328    False\n",
       "Name: date, Length: 329, dtype: bool"
      ]
     },
     "execution_count": 10,
     "metadata": {},
     "output_type": "execute_result"
    }
   ],
   "source": [
    "covid_data['date'].between(start_date,end_date)"
   ]
  },
  {
   "cell_type": "markdown",
   "metadata": {},
   "source": [
    "Now we can use this mask to select the data that we want to plot or analyse further:"
   ]
  },
  {
   "cell_type": "code",
   "execution_count": 11,
   "metadata": {},
   "outputs": [
    {
     "data": {
      "text/html": [
       "<div>\n",
       "<style scoped>\n",
       "    .dataframe tbody tr th:only-of-type {\n",
       "        vertical-align: middle;\n",
       "    }\n",
       "\n",
       "    .dataframe tbody tr th {\n",
       "        vertical-align: top;\n",
       "    }\n",
       "\n",
       "    .dataframe thead th {\n",
       "        text-align: right;\n",
       "    }\n",
       "</style>\n",
       "<table border=\"1\" class=\"dataframe\">\n",
       "  <thead>\n",
       "    <tr style=\"text-align: right;\">\n",
       "      <th></th>\n",
       "      <th>date</th>\n",
       "      <th>areaType</th>\n",
       "      <th>areaCode</th>\n",
       "      <th>areaName</th>\n",
       "      <th>cumCasesBySpecimenDate</th>\n",
       "      <th>cumDeaths28DaysByDeathDate</th>\n",
       "      <th>newCasesBySpecimenDate</th>\n",
       "      <th>newDeaths28DaysByDeathDate</th>\n",
       "    </tr>\n",
       "  </thead>\n",
       "  <tbody>\n",
       "    <tr>\n",
       "      <th>26</th>\n",
       "      <td>2020-10-31</td>\n",
       "      <td>overview</td>\n",
       "      <td>K02000001</td>\n",
       "      <td>United Kingdom</td>\n",
       "      <td>1063139.0</td>\n",
       "      <td>47466.0</td>\n",
       "      <td>16503.0</td>\n",
       "      <td>319.0</td>\n",
       "    </tr>\n",
       "    <tr>\n",
       "      <th>27</th>\n",
       "      <td>2020-10-30</td>\n",
       "      <td>overview</td>\n",
       "      <td>K02000001</td>\n",
       "      <td>United Kingdom</td>\n",
       "      <td>1046636.0</td>\n",
       "      <td>47147.0</td>\n",
       "      <td>22682.0</td>\n",
       "      <td>338.0</td>\n",
       "    </tr>\n",
       "    <tr>\n",
       "      <th>28</th>\n",
       "      <td>2020-10-29</td>\n",
       "      <td>overview</td>\n",
       "      <td>K02000001</td>\n",
       "      <td>United Kingdom</td>\n",
       "      <td>1023954.0</td>\n",
       "      <td>46809.0</td>\n",
       "      <td>23335.0</td>\n",
       "      <td>310.0</td>\n",
       "    </tr>\n",
       "    <tr>\n",
       "      <th>29</th>\n",
       "      <td>2020-10-28</td>\n",
       "      <td>overview</td>\n",
       "      <td>K02000001</td>\n",
       "      <td>United Kingdom</td>\n",
       "      <td>1000619.0</td>\n",
       "      <td>46499.0</td>\n",
       "      <td>23622.0</td>\n",
       "      <td>281.0</td>\n",
       "    </tr>\n",
       "    <tr>\n",
       "      <th>30</th>\n",
       "      <td>2020-10-27</td>\n",
       "      <td>overview</td>\n",
       "      <td>K02000001</td>\n",
       "      <td>United Kingdom</td>\n",
       "      <td>976997.0</td>\n",
       "      <td>46218.0</td>\n",
       "      <td>24113.0</td>\n",
       "      <td>266.0</td>\n",
       "    </tr>\n",
       "  </tbody>\n",
       "</table>\n",
       "</div>"
      ],
      "text/plain": [
       "         date  areaType   areaCode        areaName  cumCasesBySpecimenDate  \\\n",
       "26 2020-10-31  overview  K02000001  United Kingdom               1063139.0   \n",
       "27 2020-10-30  overview  K02000001  United Kingdom               1046636.0   \n",
       "28 2020-10-29  overview  K02000001  United Kingdom               1023954.0   \n",
       "29 2020-10-28  overview  K02000001  United Kingdom               1000619.0   \n",
       "30 2020-10-27  overview  K02000001  United Kingdom                976997.0   \n",
       "\n",
       "    cumDeaths28DaysByDeathDate  newCasesBySpecimenDate  \\\n",
       "26                     47466.0                 16503.0   \n",
       "27                     47147.0                 22682.0   \n",
       "28                     46809.0                 23335.0   \n",
       "29                     46499.0                 23622.0   \n",
       "30                     46218.0                 24113.0   \n",
       "\n",
       "    newDeaths28DaysByDeathDate  \n",
       "26                       319.0  \n",
       "27                       338.0  \n",
       "28                       310.0  \n",
       "29                       281.0  \n",
       "30                       266.0  "
      ]
     },
     "execution_count": 11,
     "metadata": {},
     "output_type": "execute_result"
    }
   ],
   "source": [
    "covid_oct = covid_data[covid_data['date'].between(start_date,end_date)]\n",
    "covid_oct.head()"
   ]
  },
  {
   "cell_type": "markdown",
   "metadata": {},
   "source": [
    "Let's now plot the number of daily cases against the date:"
   ]
  },
  {
   "cell_type": "code",
   "execution_count": 12,
   "metadata": {
    "scrolled": true
   },
   "outputs": [
    {
     "data": {
      "text/plain": [
       "Text(0, 0.5, 'Daily Cases')"
      ]
     },
     "execution_count": 12,
     "metadata": {},
     "output_type": "execute_result"
    },
    {
     "data": {
      "image/png": "[encoded data removed]",
      "text/plain": [
       "<Figure size 432x288 with 1 Axes>"
      ]
     },
     "metadata": {
      "needs_background": "light"
     },
     "output_type": "display_data"
    }
   ],
   "source": [
    "import matplotlib.pyplot as plt\n",
    "\n",
    "covid_oct.plot(x='date', y='newCasesBySpecimenDate', label='Total UK')\n",
    "plt.xlabel('Date')\n",
    "plt.ylabel('Daily Cases')"
   ]
  },
  {
   "cell_type": "markdown",
   "metadata": {},
   "source": [
    "# Exercise: Explore data through plots\n",
    "\n",
    "1. Create plots of different periods and datasets to explore how to use pandas to plot data.\n",
    "2. Can you create a plot of the ratio of COVID deaths to cases"
   ]
  },
  {
   "cell_type": "markdown",
   "metadata": {},
   "source": [
    "## Key Points:\n",
    "* Pandas `read_csv()` function can also be used to read CSV files directly from the web.\n",
    "* We can then manipulate and plot the data or subsets of it."
   ]
  }
 ],
 "metadata": {
  "kernelspec": {
   "display_name": "Python 3",
   "language": "python",
   "name": "python3"
  },
  "language_info": {
   "codemirror_mode": {
    "name": "ipython",
    "version": 3
   },
   "file_extension": ".py",
   "mimetype": "text/x-python",
   "name": "python",
   "nbconvert_exporter": "python",
   "pygments_lexer": "ipython3",
   "version": "3.8.3"
  }
 },
 "nbformat": 4,
 "nbformat_minor": 2
}
