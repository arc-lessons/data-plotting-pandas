{
 "cells": [
  {
   "cell_type": "markdown",
   "metadata": {
    "collapsed": true
   },
   "source": [
    "# Analysis using `numpy` to fit your data"
   ]
  },
  {
   "cell_type": "markdown",
   "metadata": {},
   "source": [
    "## Overview:\n",
    "- **Teaching:** 10 min\n",
    "- **Exercises:** 5 min\n",
    "\n",
    "**Questions**\n",
    "* How can I analyse data in pandas/python?\n",
    "\n",
    "**Objectives**\n",
    "* Be able to use the numpy method `polyfit` to fit data using polynomial or exponential functions.\n"
   ]
  },
  {
   "cell_type": "markdown",
   "metadata": {},
   "source": [
    "## Reference: \n",
    "\n",
    "In addition to documentation/references given throughout, this episode draws on the material in https://towardsdatascience.com/regression-plots-with-pandas-and-numpy-faf2edbfad4f."
   ]
  },
  {
   "cell_type": "markdown",
   "metadata": {},
   "source": [
    "Generally it is good practice to import all libraries you will need at the tpo of your note book so that it your dependencies are clear:"
   ]
  },
  {
   "cell_type": "code",
   "execution_count": 2,
   "metadata": {},
   "outputs": [],
   "source": [
    "import pandas as pd\n",
    "import matplotlib.pyplot as plt\n",
    "import datetime\n",
    "import numpy as np"
   ]
  },
  {
   "cell_type": "markdown",
   "metadata": {},
   "source": [
    "We are importing pandas, datetime, matplotlib.pyplot and numpy.  numpy is a numerical library which underpins the data structures used in pandas.  Here we are going to use the features of numpy to analyse the data.  First we will download the covid data again and extract a subset to analyse from the 'first wave'."
   ]
  },
  {
   "cell_type": "code",
   "execution_count": 3,
   "metadata": {},
   "outputs": [],
   "source": [
    "data_url='https://api.coronavirus.data.gov.uk/v2/data?areaType=overview&metric=cumCasesBySpecimenDate&metric=cumDeaths28DaysByDeathDate&metric=newCasesBySpecimenDate&metric=newDeaths28DaysByDeathDate&format=csv'"
   ]
  },
  {
   "cell_type": "code",
   "execution_count": 8,
   "metadata": {},
   "outputs": [
    {
     "data": {
      "text/html": [
       "<div>\n",
       "<style scoped>\n",
       "    .dataframe tbody tr th:only-of-type {\n",
       "        vertical-align: middle;\n",
       "    }\n",
       "\n",
       "    .dataframe tbody tr th {\n",
       "        vertical-align: top;\n",
       "    }\n",
       "\n",
       "    .dataframe thead th {\n",
       "        text-align: right;\n",
       "    }\n",
       "</style>\n",
       "<table border=\"1\" class=\"dataframe\">\n",
       "  <thead>\n",
       "    <tr style=\"text-align: right;\">\n",
       "      <th></th>\n",
       "      <th>date</th>\n",
       "      <th>areaType</th>\n",
       "      <th>areaCode</th>\n",
       "      <th>areaName</th>\n",
       "      <th>cumCasesBySpecimenDate</th>\n",
       "      <th>cumDeaths28DaysByDeathDate</th>\n",
       "      <th>newCasesBySpecimenDate</th>\n",
       "      <th>newDeaths28DaysByDeathDate</th>\n",
       "    </tr>\n",
       "  </thead>\n",
       "  <tbody>\n",
       "    <tr>\n",
       "      <th>0</th>\n",
       "      <td>2020-11-26</td>\n",
       "      <td>overview</td>\n",
       "      <td>K02000001</td>\n",
       "      <td>United Kingdom</td>\n",
       "      <td>NaN</td>\n",
       "      <td>NaN</td>\n",
       "      <td>NaN</td>\n",
       "      <td>NaN</td>\n",
       "    </tr>\n",
       "    <tr>\n",
       "      <th>1</th>\n",
       "      <td>2020-11-25</td>\n",
       "      <td>overview</td>\n",
       "      <td>K02000001</td>\n",
       "      <td>United Kingdom</td>\n",
       "      <td>NaN</td>\n",
       "      <td>NaN</td>\n",
       "      <td>NaN</td>\n",
       "      <td>NaN</td>\n",
       "    </tr>\n",
       "    <tr>\n",
       "      <th>2</th>\n",
       "      <td>2020-11-24</td>\n",
       "      <td>overview</td>\n",
       "      <td>K02000001</td>\n",
       "      <td>United Kingdom</td>\n",
       "      <td>1572057.0</td>\n",
       "      <td>56857.0</td>\n",
       "      <td>11242.0</td>\n",
       "      <td>300.0</td>\n",
       "    </tr>\n",
       "    <tr>\n",
       "      <th>3</th>\n",
       "      <td>2020-11-23</td>\n",
       "      <td>overview</td>\n",
       "      <td>K02000001</td>\n",
       "      <td>United Kingdom</td>\n",
       "      <td>1560815.0</td>\n",
       "      <td>56557.0</td>\n",
       "      <td>17798.0</td>\n",
       "      <td>360.0</td>\n",
       "    </tr>\n",
       "    <tr>\n",
       "      <th>4</th>\n",
       "      <td>2020-11-22</td>\n",
       "      <td>overview</td>\n",
       "      <td>K02000001</td>\n",
       "      <td>United Kingdom</td>\n",
       "      <td>1543017.0</td>\n",
       "      <td>56197.0</td>\n",
       "      <td>11729.0</td>\n",
       "      <td>407.0</td>\n",
       "    </tr>\n",
       "  </tbody>\n",
       "</table>\n",
       "</div>"
      ],
      "text/plain": [
       "         date  areaType   areaCode        areaName  cumCasesBySpecimenDate  \\\n",
       "0  2020-11-26  overview  K02000001  United Kingdom                     NaN   \n",
       "1  2020-11-25  overview  K02000001  United Kingdom                     NaN   \n",
       "2  2020-11-24  overview  K02000001  United Kingdom               1572057.0   \n",
       "3  2020-11-23  overview  K02000001  United Kingdom               1560815.0   \n",
       "4  2020-11-22  overview  K02000001  United Kingdom               1543017.0   \n",
       "\n",
       "   cumDeaths28DaysByDeathDate  newCasesBySpecimenDate  \\\n",
       "0                         NaN                     NaN   \n",
       "1                         NaN                     NaN   \n",
       "2                     56857.0                 11242.0   \n",
       "3                     56557.0                 17798.0   \n",
       "4                     56197.0                 11729.0   \n",
       "\n",
       "   newDeaths28DaysByDeathDate  \n",
       "0                         NaN  \n",
       "1                         NaN  \n",
       "2                       300.0  \n",
       "3                       360.0  \n",
       "4                       407.0  "
      ]
     },
     "execution_count": 8,
     "metadata": {},
     "output_type": "execute_result"
    }
   ],
   "source": [
    "covid_data=pd.read_csv(data_url)\n",
    "covid_data.head()"
   ]
  },
  {
   "cell_type": "markdown",
   "metadata": {},
   "source": [
    "As before we need to convert the date to a `datetime` format:"
   ]
  },
  {
   "cell_type": "code",
   "execution_count": 12,
   "metadata": {},
   "outputs": [],
   "source": [
    "covid_data['date'] = pd.to_datetime(covid_data['date'])"
   ]
  },
  {
   "cell_type": "markdown",
   "metadata": {},
   "source": [
    "To focus on the first wave we will set start and end dates to 1st March 2020 and 1st June 2020:"
   ]
  },
  {
   "cell_type": "code",
   "execution_count": 13,
   "metadata": {},
   "outputs": [],
   "source": [
    "start_date=datetime.datetime(year=2020,month=3,day=1)\n",
    "end_date=datetime.datetime(year=2020,month=5,day=31)"
   ]
  },
  {
   "cell_type": "markdown",
   "metadata": {},
   "source": [
    "As we saw earlier we can now use these to select a range of data"
   ]
  },
  {
   "cell_type": "code",
   "execution_count": 14,
   "metadata": {},
   "outputs": [
    {
     "data": {
      "text/html": [
       "<div>\n",
       "<style scoped>\n",
       "    .dataframe tbody tr th:only-of-type {\n",
       "        vertical-align: middle;\n",
       "    }\n",
       "\n",
       "    .dataframe tbody tr th {\n",
       "        vertical-align: top;\n",
       "    }\n",
       "\n",
       "    .dataframe thead th {\n",
       "        text-align: right;\n",
       "    }\n",
       "</style>\n",
       "<table border=\"1\" class=\"dataframe\">\n",
       "  <thead>\n",
       "    <tr style=\"text-align: right;\">\n",
       "      <th></th>\n",
       "      <th>date</th>\n",
       "      <th>areaType</th>\n",
       "      <th>areaCode</th>\n",
       "      <th>areaName</th>\n",
       "      <th>cumCasesBySpecimenDate</th>\n",
       "      <th>cumDeaths28DaysByDeathDate</th>\n",
       "      <th>newCasesBySpecimenDate</th>\n",
       "      <th>newDeaths28DaysByDeathDate</th>\n",
       "    </tr>\n",
       "  </thead>\n",
       "  <tbody>\n",
       "    <tr>\n",
       "      <th>179</th>\n",
       "      <td>2020-05-31</td>\n",
       "      <td>overview</td>\n",
       "      <td>K02000001</td>\n",
       "      <td>United Kingdom</td>\n",
       "      <td>256425.0</td>\n",
       "      <td>38128.0</td>\n",
       "      <td>1080.0</td>\n",
       "      <td>126.0</td>\n",
       "    </tr>\n",
       "    <tr>\n",
       "      <th>180</th>\n",
       "      <td>2020-05-30</td>\n",
       "      <td>overview</td>\n",
       "      <td>K02000001</td>\n",
       "      <td>United Kingdom</td>\n",
       "      <td>255345.0</td>\n",
       "      <td>38002.0</td>\n",
       "      <td>1121.0</td>\n",
       "      <td>163.0</td>\n",
       "    </tr>\n",
       "    <tr>\n",
       "      <th>181</th>\n",
       "      <td>2020-05-29</td>\n",
       "      <td>overview</td>\n",
       "      <td>K02000001</td>\n",
       "      <td>United Kingdom</td>\n",
       "      <td>254224.0</td>\n",
       "      <td>37839.0</td>\n",
       "      <td>1527.0</td>\n",
       "      <td>186.0</td>\n",
       "    </tr>\n",
       "    <tr>\n",
       "      <th>182</th>\n",
       "      <td>2020-05-28</td>\n",
       "      <td>overview</td>\n",
       "      <td>K02000001</td>\n",
       "      <td>United Kingdom</td>\n",
       "      <td>252697.0</td>\n",
       "      <td>37653.0</td>\n",
       "      <td>1756.0</td>\n",
       "      <td>217.0</td>\n",
       "    </tr>\n",
       "    <tr>\n",
       "      <th>183</th>\n",
       "      <td>2020-05-27</td>\n",
       "      <td>overview</td>\n",
       "      <td>K02000001</td>\n",
       "      <td>United Kingdom</td>\n",
       "      <td>250941.0</td>\n",
       "      <td>37436.0</td>\n",
       "      <td>1829.0</td>\n",
       "      <td>195.0</td>\n",
       "    </tr>\n",
       "  </tbody>\n",
       "</table>\n",
       "</div>"
      ],
      "text/plain": [
       "          date  areaType   areaCode        areaName  cumCasesBySpecimenDate  \\\n",
       "179 2020-05-31  overview  K02000001  United Kingdom                256425.0   \n",
       "180 2020-05-30  overview  K02000001  United Kingdom                255345.0   \n",
       "181 2020-05-29  overview  K02000001  United Kingdom                254224.0   \n",
       "182 2020-05-28  overview  K02000001  United Kingdom                252697.0   \n",
       "183 2020-05-27  overview  K02000001  United Kingdom                250941.0   \n",
       "\n",
       "     cumDeaths28DaysByDeathDate  newCasesBySpecimenDate  \\\n",
       "179                     38128.0                  1080.0   \n",
       "180                     38002.0                  1121.0   \n",
       "181                     37839.0                  1527.0   \n",
       "182                     37653.0                  1756.0   \n",
       "183                     37436.0                  1829.0   \n",
       "\n",
       "     newDeaths28DaysByDeathDate  \n",
       "179                       126.0  \n",
       "180                       163.0  \n",
       "181                       186.0  \n",
       "182                       217.0  \n",
       "183                       195.0  "
      ]
     },
     "execution_count": 14,
     "metadata": {},
     "output_type": "execute_result"
    }
   ],
   "source": [
    "covid_wave1 = covid_data[covid_data['date'].between(start_date, end_date)]\n",
    "covid_wave1.head()"
   ]
  },
  {
   "cell_type": "markdown",
   "metadata": {},
   "source": [
    "Let's now plot the number of daily cases against the date:"
   ]
  },
  {
   "cell_type": "code",
   "execution_count": 15,
   "metadata": {
    "scrolled": true
   },
   "outputs": [
    {
     "data": {
      "text/plain": [
       "Text(0, 0.5, 'Daily Cases')"
      ]
     },
     "execution_count": 15,
     "metadata": {},
     "output_type": "execute_result"
    },
    {
     "data": {
      "image/png": "[encoded data removed]",
      "text/plain": [
       "<Figure size 432x288 with 1 Axes>"
      ]
     },
     "metadata": {
      "needs_background": "light"
     },
     "output_type": "display_data"
    }
   ],
   "source": [
    "covid_wave1.plot(x='date', y='newCasesBySpecimenDate', label='Total UK')\n",
    "plt.xlabel('Date')\n",
    "plt.ylabel('Daily Cases')"
   ]
  },
  {
   "cell_type": "markdown",
   "metadata": {},
   "source": [
    "This data is showing very different behaviour at different times so lets select a smaller range covering just March"
   ]
  },
  {
   "cell_type": "code",
   "execution_count": 16,
   "metadata": {},
   "outputs": [],
   "source": [
    "start_date=datetime.datetime(year=2020,month=3,day=1)\n",
    "end_date=datetime.datetime(year=2020,month=3,day=30)\n",
    "covid_march = covid_data[covid_data['date'].between(start_date, end_date) ]"
   ]
  },
  {
   "cell_type": "code",
   "execution_count": 17,
   "metadata": {},
   "outputs": [
    {
     "data": {
      "text/plain": [
       "Text(0, 0.5, 'Daily Cases')"
      ]
     },
     "execution_count": 17,
     "metadata": {},
     "output_type": "execute_result"
    },
    {
     "data": {
      "image/png": "[encoded data removed]",
      "text/plain": [
       "<Figure size 432x288 with 1 Axes>"
      ]
     },
     "metadata": {
      "needs_background": "light"
     },
     "output_type": "display_data"
    }
   ],
   "source": [
    "covid_march.plot(x='date', y='newCasesBySpecimenDate', label='Total UK')\n",
    "plt.xlabel('Date')\n",
    "plt.ylabel('Daily Cases')"
   ]
  },
  {
   "cell_type": "markdown",
   "metadata": {},
   "source": [
    "Now we can generate a fit to the data.  There are many libraries such as scipy that we could use to do this see e.g. the [docs](https://docs.scipy.org/doc/scipy/reference/generated/scipy.optimize.curve_fit.html) and [lectures](https://scipy-lectures.org/intro/scipy/auto_examples/plot_curve_fit.html) however we are going to use [numpy's `polyfit` function](https://numpy.org/doc/stable/reference/generated/numpy.polyfit.html).\n",
    "\n",
    "First we need to modify the dataset as it is currently in reverse time order:"
   ]
  },
  {
   "cell_type": "code",
   "execution_count": 18,
   "metadata": {},
   "outputs": [
    {
     "data": {
      "text/html": [
       "<div>\n",
       "<style scoped>\n",
       "    .dataframe tbody tr th:only-of-type {\n",
       "        vertical-align: middle;\n",
       "    }\n",
       "\n",
       "    .dataframe tbody tr th {\n",
       "        vertical-align: top;\n",
       "    }\n",
       "\n",
       "    .dataframe thead th {\n",
       "        text-align: right;\n",
       "    }\n",
       "</style>\n",
       "<table border=\"1\" class=\"dataframe\">\n",
       "  <thead>\n",
       "    <tr style=\"text-align: right;\">\n",
       "      <th></th>\n",
       "      <th>date</th>\n",
       "      <th>areaType</th>\n",
       "      <th>areaCode</th>\n",
       "      <th>areaName</th>\n",
       "      <th>cumCasesBySpecimenDate</th>\n",
       "      <th>cumDeaths28DaysByDeathDate</th>\n",
       "      <th>newCasesBySpecimenDate</th>\n",
       "      <th>newDeaths28DaysByDeathDate</th>\n",
       "    </tr>\n",
       "  </thead>\n",
       "  <tbody>\n",
       "    <tr>\n",
       "      <th>241</th>\n",
       "      <td>2020-03-30</td>\n",
       "      <td>overview</td>\n",
       "      <td>K02000001</td>\n",
       "      <td>United Kingdom</td>\n",
       "      <td>33961.0</td>\n",
       "      <td>3764.0</td>\n",
       "      <td>4272.0</td>\n",
       "      <td>585.0</td>\n",
       "    </tr>\n",
       "    <tr>\n",
       "      <th>242</th>\n",
       "      <td>2020-03-29</td>\n",
       "      <td>overview</td>\n",
       "      <td>K02000001</td>\n",
       "      <td>United Kingdom</td>\n",
       "      <td>29689.0</td>\n",
       "      <td>3179.0</td>\n",
       "      <td>2858.0</td>\n",
       "      <td>507.0</td>\n",
       "    </tr>\n",
       "    <tr>\n",
       "      <th>243</th>\n",
       "      <td>2020-03-28</td>\n",
       "      <td>overview</td>\n",
       "      <td>K02000001</td>\n",
       "      <td>United Kingdom</td>\n",
       "      <td>26831.0</td>\n",
       "      <td>2672.0</td>\n",
       "      <td>2822.0</td>\n",
       "      <td>436.0</td>\n",
       "    </tr>\n",
       "    <tr>\n",
       "      <th>244</th>\n",
       "      <td>2020-03-27</td>\n",
       "      <td>overview</td>\n",
       "      <td>K02000001</td>\n",
       "      <td>United Kingdom</td>\n",
       "      <td>24009.0</td>\n",
       "      <td>2236.0</td>\n",
       "      <td>3188.0</td>\n",
       "      <td>399.0</td>\n",
       "    </tr>\n",
       "    <tr>\n",
       "      <th>245</th>\n",
       "      <td>2020-03-26</td>\n",
       "      <td>overview</td>\n",
       "      <td>K02000001</td>\n",
       "      <td>United Kingdom</td>\n",
       "      <td>20821.0</td>\n",
       "      <td>1837.0</td>\n",
       "      <td>3091.0</td>\n",
       "      <td>359.0</td>\n",
       "    </tr>\n",
       "  </tbody>\n",
       "</table>\n",
       "</div>"
      ],
      "text/plain": [
       "          date  areaType   areaCode        areaName  cumCasesBySpecimenDate  \\\n",
       "241 2020-03-30  overview  K02000001  United Kingdom                 33961.0   \n",
       "242 2020-03-29  overview  K02000001  United Kingdom                 29689.0   \n",
       "243 2020-03-28  overview  K02000001  United Kingdom                 26831.0   \n",
       "244 2020-03-27  overview  K02000001  United Kingdom                 24009.0   \n",
       "245 2020-03-26  overview  K02000001  United Kingdom                 20821.0   \n",
       "\n",
       "     cumDeaths28DaysByDeathDate  newCasesBySpecimenDate  \\\n",
       "241                      3764.0                  4272.0   \n",
       "242                      3179.0                  2858.0   \n",
       "243                      2672.0                  2822.0   \n",
       "244                      2236.0                  3188.0   \n",
       "245                      1837.0                  3091.0   \n",
       "\n",
       "     newDeaths28DaysByDeathDate  \n",
       "241                       585.0  \n",
       "242                       507.0  \n",
       "243                       436.0  \n",
       "244                       399.0  \n",
       "245                       359.0  "
      ]
     },
     "execution_count": 18,
     "metadata": {},
     "output_type": "execute_result"
    }
   ],
   "source": [
    "covid_march.head()"
   ]
  },
  {
   "cell_type": "markdown",
   "metadata": {},
   "source": [
    "To reverse the order into chronological we need to invert the dataframe using iloc[::-1] **and** reset the index using reset_index:"
   ]
  },
  {
   "cell_type": "code",
   "execution_count": 19,
   "metadata": {},
   "outputs": [
    {
     "data": {
      "text/html": [
       "<div>\n",
       "<style scoped>\n",
       "    .dataframe tbody tr th:only-of-type {\n",
       "        vertical-align: middle;\n",
       "    }\n",
       "\n",
       "    .dataframe tbody tr th {\n",
       "        vertical-align: top;\n",
       "    }\n",
       "\n",
       "    .dataframe thead th {\n",
       "        text-align: right;\n",
       "    }\n",
       "</style>\n",
       "<table border=\"1\" class=\"dataframe\">\n",
       "  <thead>\n",
       "    <tr style=\"text-align: right;\">\n",
       "      <th></th>\n",
       "      <th>date</th>\n",
       "      <th>areaType</th>\n",
       "      <th>areaCode</th>\n",
       "      <th>areaName</th>\n",
       "      <th>cumCasesBySpecimenDate</th>\n",
       "      <th>cumDeaths28DaysByDeathDate</th>\n",
       "      <th>newCasesBySpecimenDate</th>\n",
       "      <th>newDeaths28DaysByDeathDate</th>\n",
       "    </tr>\n",
       "  </thead>\n",
       "  <tbody>\n",
       "    <tr>\n",
       "      <th>0</th>\n",
       "      <td>2020-03-01</td>\n",
       "      <td>overview</td>\n",
       "      <td>K02000001</td>\n",
       "      <td>United Kingdom</td>\n",
       "      <td>71.0</td>\n",
       "      <td>NaN</td>\n",
       "      <td>22.0</td>\n",
       "      <td>0.0</td>\n",
       "    </tr>\n",
       "    <tr>\n",
       "      <th>1</th>\n",
       "      <td>2020-03-02</td>\n",
       "      <td>overview</td>\n",
       "      <td>K02000001</td>\n",
       "      <td>United Kingdom</td>\n",
       "      <td>111.0</td>\n",
       "      <td>1.0</td>\n",
       "      <td>40.0</td>\n",
       "      <td>1.0</td>\n",
       "    </tr>\n",
       "    <tr>\n",
       "      <th>2</th>\n",
       "      <td>2020-03-03</td>\n",
       "      <td>overview</td>\n",
       "      <td>K02000001</td>\n",
       "      <td>United Kingdom</td>\n",
       "      <td>167.0</td>\n",
       "      <td>3.0</td>\n",
       "      <td>56.0</td>\n",
       "      <td>2.0</td>\n",
       "    </tr>\n",
       "    <tr>\n",
       "      <th>3</th>\n",
       "      <td>2020-03-04</td>\n",
       "      <td>overview</td>\n",
       "      <td>K02000001</td>\n",
       "      <td>United Kingdom</td>\n",
       "      <td>223.0</td>\n",
       "      <td>3.0</td>\n",
       "      <td>56.0</td>\n",
       "      <td>0.0</td>\n",
       "    </tr>\n",
       "    <tr>\n",
       "      <th>4</th>\n",
       "      <td>2020-03-05</td>\n",
       "      <td>overview</td>\n",
       "      <td>K02000001</td>\n",
       "      <td>United Kingdom</td>\n",
       "      <td>274.0</td>\n",
       "      <td>6.0</td>\n",
       "      <td>51.0</td>\n",
       "      <td>3.0</td>\n",
       "    </tr>\n",
       "  </tbody>\n",
       "</table>\n",
       "</div>"
      ],
      "text/plain": [
       "        date  areaType   areaCode        areaName  cumCasesBySpecimenDate  \\\n",
       "0 2020-03-01  overview  K02000001  United Kingdom                    71.0   \n",
       "1 2020-03-02  overview  K02000001  United Kingdom                   111.0   \n",
       "2 2020-03-03  overview  K02000001  United Kingdom                   167.0   \n",
       "3 2020-03-04  overview  K02000001  United Kingdom                   223.0   \n",
       "4 2020-03-05  overview  K02000001  United Kingdom                   274.0   \n",
       "\n",
       "   cumDeaths28DaysByDeathDate  newCasesBySpecimenDate  \\\n",
       "0                         NaN                    22.0   \n",
       "1                         1.0                    40.0   \n",
       "2                         3.0                    56.0   \n",
       "3                         3.0                    56.0   \n",
       "4                         6.0                    51.0   \n",
       "\n",
       "   newDeaths28DaysByDeathDate  \n",
       "0                         0.0  \n",
       "1                         1.0  \n",
       "2                         2.0  \n",
       "3                         0.0  \n",
       "4                         3.0  "
      ]
     },
     "execution_count": 19,
     "metadata": {},
     "output_type": "execute_result"
    }
   ],
   "source": [
    "covid_march=covid_march.iloc[::-1].reset_index(drop=True)\n",
    "covid_march.head()"
   ]
  },
  {
   "cell_type": "markdown",
   "metadata": {},
   "source": [
    "Now we can fit the data.  `polyfit` requires us to specify the `x` and `y` datasets and a 'degree'.  The `degree` refers to the highest power of `x` you want to use, we will being with degree 1 which means fitting the data using a function of the form $y=ax+b$.  We will use the index for the x values, rather than the `date`, think why this might be:"
   ]
  },
  {
   "cell_type": "code",
   "execution_count": 20,
   "metadata": {},
   "outputs": [
    {
     "data": {
      "text/plain": [
       "array([ 126.65005562, -706.02580645])"
      ]
     },
     "execution_count": 20,
     "metadata": {},
     "output_type": "execute_result"
    }
   ],
   "source": [
    "fit1dcoeff = np.polyfit(x=covid_march.index, y=covid_march['newCasesBySpecimenDate'],deg=1)\n",
    "fit1dcoeff"
   ]
  },
  {
   "cell_type": "markdown",
   "metadata": {},
   "source": [
    "The function returns the coefficients that have been obtained using a least squares fit.  Note that the order of the coefficients is the opposite of what we might expect, the gradient, $a$, is the first value in the list and the intercept, $b$, is the second value.  We could no generate the fitted data ourselves, however it is easier to use the numpy helper function, `poly1d` to add the fitted data to the dataframe.  First this creates a function `fit` which we then use to calculate a value for each value of the index:"
   ]
  },
  {
   "cell_type": "code",
   "execution_count": 22,
   "metadata": {},
   "outputs": [
    {
     "data": {
      "text/html": [
       "<div>\n",
       "<style scoped>\n",
       "    .dataframe tbody tr th:only-of-type {\n",
       "        vertical-align: middle;\n",
       "    }\n",
       "\n",
       "    .dataframe tbody tr th {\n",
       "        vertical-align: top;\n",
       "    }\n",
       "\n",
       "    .dataframe thead th {\n",
       "        text-align: right;\n",
       "    }\n",
       "</style>\n",
       "<table border=\"1\" class=\"dataframe\">\n",
       "  <thead>\n",
       "    <tr style=\"text-align: right;\">\n",
       "      <th></th>\n",
       "      <th>date</th>\n",
       "      <th>areaType</th>\n",
       "      <th>areaCode</th>\n",
       "      <th>areaName</th>\n",
       "      <th>cumCasesBySpecimenDate</th>\n",
       "      <th>cumDeaths28DaysByDeathDate</th>\n",
       "      <th>newCasesBySpecimenDate</th>\n",
       "      <th>newDeaths28DaysByDeathDate</th>\n",
       "      <th>casesFit</th>\n",
       "    </tr>\n",
       "  </thead>\n",
       "  <tbody>\n",
       "    <tr>\n",
       "      <th>0</th>\n",
       "      <td>2020-03-01</td>\n",
       "      <td>overview</td>\n",
       "      <td>K02000001</td>\n",
       "      <td>United Kingdom</td>\n",
       "      <td>71.0</td>\n",
       "      <td>NaN</td>\n",
       "      <td>22.0</td>\n",
       "      <td>0.0</td>\n",
       "      <td>-706.025806</td>\n",
       "    </tr>\n",
       "    <tr>\n",
       "      <th>1</th>\n",
       "      <td>2020-03-02</td>\n",
       "      <td>overview</td>\n",
       "      <td>K02000001</td>\n",
       "      <td>United Kingdom</td>\n",
       "      <td>111.0</td>\n",
       "      <td>1.0</td>\n",
       "      <td>40.0</td>\n",
       "      <td>1.0</td>\n",
       "      <td>-579.375751</td>\n",
       "    </tr>\n",
       "    <tr>\n",
       "      <th>2</th>\n",
       "      <td>2020-03-03</td>\n",
       "      <td>overview</td>\n",
       "      <td>K02000001</td>\n",
       "      <td>United Kingdom</td>\n",
       "      <td>167.0</td>\n",
       "      <td>3.0</td>\n",
       "      <td>56.0</td>\n",
       "      <td>2.0</td>\n",
       "      <td>-452.725695</td>\n",
       "    </tr>\n",
       "    <tr>\n",
       "      <th>3</th>\n",
       "      <td>2020-03-04</td>\n",
       "      <td>overview</td>\n",
       "      <td>K02000001</td>\n",
       "      <td>United Kingdom</td>\n",
       "      <td>223.0</td>\n",
       "      <td>3.0</td>\n",
       "      <td>56.0</td>\n",
       "      <td>0.0</td>\n",
       "      <td>-326.075640</td>\n",
       "    </tr>\n",
       "    <tr>\n",
       "      <th>4</th>\n",
       "      <td>2020-03-05</td>\n",
       "      <td>overview</td>\n",
       "      <td>K02000001</td>\n",
       "      <td>United Kingdom</td>\n",
       "      <td>274.0</td>\n",
       "      <td>6.0</td>\n",
       "      <td>51.0</td>\n",
       "      <td>3.0</td>\n",
       "      <td>-199.425584</td>\n",
       "    </tr>\n",
       "  </tbody>\n",
       "</table>\n",
       "</div>"
      ],
      "text/plain": [
       "        date  areaType   areaCode        areaName  cumCasesBySpecimenDate  \\\n",
       "0 2020-03-01  overview  K02000001  United Kingdom                    71.0   \n",
       "1 2020-03-02  overview  K02000001  United Kingdom                   111.0   \n",
       "2 2020-03-03  overview  K02000001  United Kingdom                   167.0   \n",
       "3 2020-03-04  overview  K02000001  United Kingdom                   223.0   \n",
       "4 2020-03-05  overview  K02000001  United Kingdom                   274.0   \n",
       "\n",
       "   cumDeaths28DaysByDeathDate  newCasesBySpecimenDate  \\\n",
       "0                         NaN                    22.0   \n",
       "1                         1.0                    40.0   \n",
       "2                         3.0                    56.0   \n",
       "3                         3.0                    56.0   \n",
       "4                         6.0                    51.0   \n",
       "\n",
       "   newDeaths28DaysByDeathDate    casesFit  \n",
       "0                         0.0 -706.025806  \n",
       "1                         1.0 -579.375751  \n",
       "2                         2.0 -452.725695  \n",
       "3                         0.0 -326.075640  \n",
       "4                         3.0 -199.425584  "
      ]
     },
     "execution_count": 22,
     "metadata": {},
     "output_type": "execute_result"
    }
   ],
   "source": [
    "fit = np.poly1d(fit1dcoeff)\n",
    "covid_march['casesFit']=fit(covid_march.index)\n",
    "covid_march.head()"
   ]
  },
  {
   "cell_type": "markdown",
   "metadata": {},
   "source": [
    "It's easier to explore this visually so let's plot our fitted function over the original data to see how good the fit is, note that we have to assign the plots to the same set of axes (`ax`) in order to plot one over the other:"
   ]
  },
  {
   "cell_type": "code",
   "execution_count": 23,
   "metadata": {},
   "outputs": [
    {
     "data": {
      "text/plain": [
       "Text(0, 0.5, 'Daily Cases')"
      ]
     },
     "execution_count": 23,
     "metadata": {},
     "output_type": "execute_result"
    },
    {
     "data": {
      "image/png": "[encoded data removed]",
      "text/plain": [
       "<Figure size 432x288 with 1 Axes>"
      ]
     },
     "metadata": {
      "needs_background": "light"
     },
     "output_type": "display_data"
    }
   ],
   "source": [
    "ax = covid_march.plot(x='date', y='newCasesBySpecimenDate', label='Total UK')\n",
    "covid_march.plot(x='date', y='casesFit', label='Fit', ax=ax)\n",
    "plt.xlabel('Date')\n",
    "plt.ylabel('Daily Cases')"
   ]
  },
  {
   "cell_type": "markdown",
   "metadata": {},
   "source": [
    "## Exercise: Higher degree polynomial fit\n",
    "\n",
    "This doesn't look like a great fit, explore using higher polynomials the fit the data better.  \n",
    "\n",
    "What are the problems of using higher degree polynomials to fit the data?"
   ]
  },
  {
   "cell_type": "markdown",
   "metadata": {},
   "source": [
    "In discussing the number of daily cases we are often told that the growth is exponential.  Can we use what we have been exploring to fit an exponential to the data?\n",
    "\n",
    "We expect an exponential to have the form\n",
    "\n",
    "$$\n",
    "y =  A\\exp^{(Bx)}\n",
    "$$\n",
    "\n",
    "if we take natural logs of both sides we have:\n",
    "\n",
    "$$\n",
    "\\ln y = \\ln (A) + Bx.\n",
    "$$\n",
    "\n",
    "So if we fit $\\ln(y)$ against $x$ the intercept will be $\\ln A$ and the gradient $B$:"
   ]
  },
  {
   "cell_type": "code",
   "execution_count": 29,
   "metadata": {},
   "outputs": [
    {
     "data": {
      "text/plain": [
       "array([0.17704781, 3.58231434])"
      ]
     },
     "execution_count": 29,
     "metadata": {},
     "output_type": "execute_result"
    }
   ],
   "source": [
    "fitexpcoeff = np.polyfit(x=covid_march.index, y=np.log(covid_march['newCasesBySpecimenDate']),deg=1)\n",
    "fitexpcoeff"
   ]
  },
  {
   "cell_type": "markdown",
   "metadata": {},
   "source": [
    "As we did with the previous fit we can now add a new column calculating the fitted exponential value by noting that $A$ will be given by the exponential of the intercept of the fit i.e, $A = \\exp^{\\mathrm{intercept}}$ and $B$ will be the calculated gradient:"
   ]
  },
  {
   "cell_type": "code",
   "execution_count": 33,
   "metadata": {},
   "outputs": [],
   "source": [
    "def fitexp(x, coeff):\n",
    "    return np.exp(coeff[1]) * np.exp(coeff[0]*x)"
   ]
  },
  {
   "cell_type": "code",
   "execution_count": 34,
   "metadata": {},
   "outputs": [
    {
     "data": {
      "text/html": [
       "<div>\n",
       "<style scoped>\n",
       "    .dataframe tbody tr th:only-of-type {\n",
       "        vertical-align: middle;\n",
       "    }\n",
       "\n",
       "    .dataframe tbody tr th {\n",
       "        vertical-align: top;\n",
       "    }\n",
       "\n",
       "    .dataframe thead th {\n",
       "        text-align: right;\n",
       "    }\n",
       "</style>\n",
       "<table border=\"1\" class=\"dataframe\">\n",
       "  <thead>\n",
       "    <tr style=\"text-align: right;\">\n",
       "      <th></th>\n",
       "      <th>date</th>\n",
       "      <th>areaType</th>\n",
       "      <th>areaCode</th>\n",
       "      <th>areaName</th>\n",
       "      <th>cumCasesBySpecimenDate</th>\n",
       "      <th>cumDeaths28DaysByDeathDate</th>\n",
       "      <th>newCasesBySpecimenDate</th>\n",
       "      <th>newDeaths28DaysByDeathDate</th>\n",
       "      <th>casesFit</th>\n",
       "      <th>casesFitexp</th>\n",
       "    </tr>\n",
       "  </thead>\n",
       "  <tbody>\n",
       "    <tr>\n",
       "      <th>0</th>\n",
       "      <td>2020-03-01</td>\n",
       "      <td>overview</td>\n",
       "      <td>K02000001</td>\n",
       "      <td>United Kingdom</td>\n",
       "      <td>71.0</td>\n",
       "      <td>NaN</td>\n",
       "      <td>22.0</td>\n",
       "      <td>0.0</td>\n",
       "      <td>-706.025806</td>\n",
       "      <td>35.956661</td>\n",
       "    </tr>\n",
       "    <tr>\n",
       "      <th>1</th>\n",
       "      <td>2020-03-02</td>\n",
       "      <td>overview</td>\n",
       "      <td>K02000001</td>\n",
       "      <td>United Kingdom</td>\n",
       "      <td>111.0</td>\n",
       "      <td>1.0</td>\n",
       "      <td>40.0</td>\n",
       "      <td>1.0</td>\n",
       "      <td>-579.375751</td>\n",
       "      <td>42.921040</td>\n",
       "    </tr>\n",
       "    <tr>\n",
       "      <th>2</th>\n",
       "      <td>2020-03-03</td>\n",
       "      <td>overview</td>\n",
       "      <td>K02000001</td>\n",
       "      <td>United Kingdom</td>\n",
       "      <td>167.0</td>\n",
       "      <td>3.0</td>\n",
       "      <td>56.0</td>\n",
       "      <td>2.0</td>\n",
       "      <td>-452.725695</td>\n",
       "      <td>51.234338</td>\n",
       "    </tr>\n",
       "    <tr>\n",
       "      <th>3</th>\n",
       "      <td>2020-03-04</td>\n",
       "      <td>overview</td>\n",
       "      <td>K02000001</td>\n",
       "      <td>United Kingdom</td>\n",
       "      <td>223.0</td>\n",
       "      <td>3.0</td>\n",
       "      <td>56.0</td>\n",
       "      <td>0.0</td>\n",
       "      <td>-326.075640</td>\n",
       "      <td>61.157822</td>\n",
       "    </tr>\n",
       "    <tr>\n",
       "      <th>4</th>\n",
       "      <td>2020-03-05</td>\n",
       "      <td>overview</td>\n",
       "      <td>K02000001</td>\n",
       "      <td>United Kingdom</td>\n",
       "      <td>274.0</td>\n",
       "      <td>6.0</td>\n",
       "      <td>51.0</td>\n",
       "      <td>3.0</td>\n",
       "      <td>-199.425584</td>\n",
       "      <td>73.003369</td>\n",
       "    </tr>\n",
       "  </tbody>\n",
       "</table>\n",
       "</div>"
      ],
      "text/plain": [
       "        date  areaType   areaCode        areaName  cumCasesBySpecimenDate  \\\n",
       "0 2020-03-01  overview  K02000001  United Kingdom                    71.0   \n",
       "1 2020-03-02  overview  K02000001  United Kingdom                   111.0   \n",
       "2 2020-03-03  overview  K02000001  United Kingdom                   167.0   \n",
       "3 2020-03-04  overview  K02000001  United Kingdom                   223.0   \n",
       "4 2020-03-05  overview  K02000001  United Kingdom                   274.0   \n",
       "\n",
       "   cumDeaths28DaysByDeathDate  newCasesBySpecimenDate  \\\n",
       "0                         NaN                    22.0   \n",
       "1                         1.0                    40.0   \n",
       "2                         3.0                    56.0   \n",
       "3                         3.0                    56.0   \n",
       "4                         6.0                    51.0   \n",
       "\n",
       "   newDeaths28DaysByDeathDate    casesFit  casesFitexp  \n",
       "0                         0.0 -706.025806    35.956661  \n",
       "1                         1.0 -579.375751    42.921040  \n",
       "2                         2.0 -452.725695    51.234338  \n",
       "3                         0.0 -326.075640    61.157822  \n",
       "4                         3.0 -199.425584    73.003369  "
      ]
     },
     "execution_count": 34,
     "metadata": {},
     "output_type": "execute_result"
    }
   ],
   "source": [
    "covid_march['casesFitexp']=fitexp(covid_march.index, fitexpcoeff)\n",
    "covid_march.head()"
   ]
  },
  {
   "cell_type": "code",
   "execution_count": 35,
   "metadata": {},
   "outputs": [
    {
     "data": {
      "text/plain": [
       "Text(0, 0.5, 'Daily Cases')"
      ]
     },
     "execution_count": 35,
     "metadata": {},
     "output_type": "execute_result"
    },
    {
     "data": {
      "image/png": "[encoded data removed]",
      "text/plain": [
       "<Figure size 432x288 with 1 Axes>"
      ]
     },
     "metadata": {
      "needs_background": "light"
     },
     "output_type": "display_data"
    }
   ],
   "source": [
    "ax = covid_march.plot(x='date', y='newCasesBySpecimenDate', label='Total UK')\n",
    "covid_march.plot(x='date', y='casesFitexp', label='Fitexp', ax=ax)\n",
    "plt.xlabel('Date')\n",
    "plt.ylabel('Daily Cases')"
   ]
  },
  {
   "cell_type": "markdown",
   "metadata": {},
   "source": [
    "## Exercise: Your turn\n",
    "\n",
    "Now it's over to you.  Explore the data using the skills and methods you have learnt and identify features that you want to discuss and comment on.  You could use the dataset provided, explore the government website to extract e.g. regional subsets of the data, or you could use completely different data.  Write up your findings in a notebook as if you were writing a lab report.  But include notebooks to include the code and data analysis so that someone else can follow not just your argument but the also repeat and reproduce your results.  The only constraint is that the data you use must be available on the internet so that the whole workflow can be re-run."
   ]
  },
  {
   "cell_type": "markdown",
   "metadata": {},
   "source": [
    "## Key Points:\n",
    "* With `pandas` and `numpy` we can readily import data from a range of sources:\n",
    "  1. manipulate the data to select ranges\n",
    "  2. analyse the data e.g. adding fits\n",
    "  3. plot the data to compare fits with the original data"
   ]
  }
 ],
 "metadata": {
  "kernelspec": {
   "display_name": "Python 3",
   "language": "python",
   "name": "python3"
  },
  "language_info": {
   "codemirror_mode": {
    "name": "ipython",
    "version": 3
   },
   "file_extension": ".py",
   "mimetype": "text/x-python",
   "name": "python",
   "nbconvert_exporter": "python",
   "pygments_lexer": "ipython3",
   "version": "3.8.3"
  }
 },
 "nbformat": 4,
 "nbformat_minor": 2
}
